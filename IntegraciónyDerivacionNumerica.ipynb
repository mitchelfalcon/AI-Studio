{
  "nbformat": 4,
  "nbformat_minor": 0,
  "metadata": {
    "colab": {
      "provenance": [],
      "include_colab_link": true
    },
    "kernelspec": {
      "name": "python3",
      "display_name": "Python 3"
    },
    "language_info": {
      "name": "python"
    }
  },
  "cells": [
    {
      "cell_type": "markdown",
      "metadata": {
        "id": "view-in-github",
        "colab_type": "text"
      },
      "source": [
        "<a href=\"https://colab.research.google.com/github/mitchelfalcon/AI-Studio/blob/main/Integraci%C3%B3nyDerivacionNumerica.ipynb\" target=\"_parent\"><img src=\"https://colab.research.google.com/assets/colab-badge.svg\" alt=\"Open In Colab\"/></a>"
      ]
    },
    {
      "cell_type": "code",
      "execution_count": 1,
      "metadata": {
        "colab": {
          "base_uri": "https://localhost:8080/"
        },
        "id": "fHn0-bQMeTl2",
        "outputId": "e9fd817d-a26e-46f2-94d6-d95f29d6dd5b"
      },
      "outputs": [
        {
          "output_type": "stream",
          "name": "stdout",
          "text": [
            "🚀 **Cálculo de la Distancia Recorrida por el Cohete** 🚀\n",
            "Intervalo de tiempo: de t=8s a t=30s\n",
            "Valor verdadero de referencia: 11061.3400 m\n",
            "\n",
            "========================================\n",
            "📊 Método del Trapecio (con n=10 segmentos)\n",
            "----------------------------------------\n",
            "Resultado: 11069.5835 m\n",
            "Error absoluto: 8.2435 m\n",
            "\n",
            "========================================\n",
            "📊 Método de Simpson 1/3 (con n=10 segmentos)\n",
            "----------------------------------------\n",
            "Resultado: 11061.3435 m\n",
            "Error absoluto: 0.0035 m\n",
            "\n",
            "========================================\n",
            "📊 Integración de Romberg\n",
            "----------------------------------------\n",
            "Resultado: 11061.3355 m\n",
            "Error absoluto: 0.0045 m\n",
            "\n",
            "========================================\n",
            "📊 Cuadratura Gaussiana (3 puntos)\n",
            "----------------------------------------\n",
            "Resultado: 11061.3084 m\n",
            "Error absoluto: 0.0316 m\n",
            "\n"
          ]
        }
      ],
      "source": [
        "import numpy as np\n",
        "\n",
        "def v(t):\n",
        "    termino_log = 140000 - 2100 * t\n",
        "    if np.any(termino_log <= 0):\n",
        "        raise ValueError(\"El argumento del logaritmo debe ser positivo.\")\n",
        "    return 2000 * np.log(140000 / termino_log) - 9.8 * t\n",
        "\n",
        "class NumericalIntegrator:\n",
        "    def __init__(self, f, a, b, n):\n",
        "        self.f = f\n",
        "        self.a = a\n",
        "        self.b = b\n",
        "        self.n = n\n",
        "\n",
        "    def trapezoidal_rule(self):\n",
        "        h = (self.b - self.a) / self.n\n",
        "        x = np.linspace(self.a, self.b, self.n + 1)\n",
        "        y = self.f(x)\n",
        "        return (h / 2) * (y[0] + 2 * np.sum(y[1:-1]) + y[-1])\n",
        "\n",
        "    def simpsons_13_rule(self):\n",
        "        if self.n % 2 != 0:\n",
        "            raise ValueError(\"El número de segmentos 'n' debe ser par para Simpson 1/3.\")\n",
        "        h = (self.b - self.a) / self.n\n",
        "        x = np.linspace(self.a, self.b, self.n + 1)\n",
        "        y = self.f(x)\n",
        "        sum_impares = np.sum(y[1:-1:2])\n",
        "        sum_pares = np.sum(y[2:-2:2])\n",
        "        return (h / 3) * (y[0] + 4 * sum_impares + 2 * sum_pares + y[-1])\n",
        "\n",
        "    def romberg_integration(self, max_level=5):\n",
        "        R = np.zeros((max_level, max_level), dtype=float)\n",
        "        h = self.b - self.a\n",
        "        R[0, 0] = (h / 2) * (self.f(self.a) + self.f(self.b))\n",
        "        for k in range(1, max_level):\n",
        "            h /= 2\n",
        "            sum_val = np.sum(self.f(self.a + np.arange(1, 2**k, 2) * h))\n",
        "            R[k, 0] = 0.5 * R[k - 1, 0] + sum_val * h\n",
        "            for j in range(1, k + 1):\n",
        "                R[k, j] = R[k, j - 1] + (R[k, j - 1] - R[k - 1, j - 1]) / (4**j - 1)\n",
        "        return R[max_level - 1, max_level - 1]\n",
        "\n",
        "    def gaussian_quadrature_3_point(self):\n",
        "        puntos = [-np.sqrt(3/5), 0, np.sqrt(3/5)]\n",
        "        pesos = [5/9, 8/9, 5/9]\n",
        "        transform_factor = (self.b - self.a) / 2\n",
        "        shift_factor = (self.b + self.a) / 2\n",
        "        integral = sum(p * self.f(transform_factor * w + shift_factor) for w, p in zip(puntos, pesos))\n",
        "        return transform_factor * integral\n",
        "\n",
        "def run_and_display_results():\n",
        "    a = 8\n",
        "    b = 30\n",
        "    n = 10\n",
        "    true_value = 11061.34\n",
        "\n",
        "    print(\"🚀 **Cálculo de la Distancia Recorrida por el Cohete** 🚀\")\n",
        "    print(f\"Intervalo de tiempo: de t={a}s a t={b}s\")\n",
        "    print(f\"Valor verdadero de referencia: {true_value:.4f} m\\n\")\n",
        "\n",
        "    integrator = NumericalIntegrator(f=v, a=a, b=b, n=n)\n",
        "\n",
        "    print(\"=\"*40)\n",
        "    print(f\"📊 Método del Trapecio (con n={n} segmentos)\")\n",
        "    print(\"-\"*40)\n",
        "    trapezoidal_result = integrator.trapezoidal_rule()\n",
        "    error_trapecio = abs(trapezoidal_result - true_value)\n",
        "    print(f\"Resultado: {trapezoidal_result:.4f} m\")\n",
        "    print(f\"Error absoluto: {error_trapecio:.4f} m\\n\")\n",
        "\n",
        "    print(\"=\"*40)\n",
        "    print(f\"📊 Método de Simpson 1/3 (con n={n} segmentos)\")\n",
        "    print(\"-\"*40)\n",
        "    try:\n",
        "        simpson_result = integrator.simpsons_13_rule()\n",
        "        error_simpson = abs(simpson_result - true_value)\n",
        "        print(f\"Resultado: {simpson_result:.4f} m\")\n",
        "        print(f\"Error absoluto: {error_simpson:.4f} m\\n\")\n",
        "    except ValueError as e:\n",
        "        print(f\"Error: {e}\\n\")\n",
        "\n",
        "    print(\"=\"*40)\n",
        "    print(\"📊 Integración de Romberg\")\n",
        "    print(\"-\"*40)\n",
        "    romberg_result = integrator.romberg_integration()\n",
        "    error_romberg = abs(romberg_result - true_value)\n",
        "    print(f\"Resultado: {romberg_result:.4f} m\")\n",
        "    print(f\"Error absoluto: {error_romberg:.4f} m\\n\")\n",
        "\n",
        "    print(\"=\"*40)\n",
        "    print(\"📊 Cuadratura Gaussiana (3 puntos)\")\n",
        "    print(\"-\"*40)\n",
        "    gaussian_result = integrator.gaussian_quadrature_3_point()\n",
        "    error_gauss = abs(gaussian_result - true_value)\n",
        "    print(f\"Resultado: {gaussian_result:.4f} m\")\n",
        "    print(f\"Error absoluto: {error_gauss:.4f} m\\n\")\n",
        "\n",
        "run_and_display_results()"
      ]
    },
    {
      "cell_type": "code",
      "source": [
        "#SIMPSON\n",
        "\n",
        "import numpy as np\n",
        "\n",
        "# definir cualquier función\n",
        "def Funcion(x):\n",
        "    f = x**3+2*x**2-3*x+4\n",
        "    return f\n",
        "\n",
        "def Simpson(n,a,b):\n",
        "  h=(b-a)/n\n",
        "  x=a\n",
        "  sum=Funcion(a)\n",
        "  for i in range(1,n-2,2):\n",
        "    x = x + h\n",
        "    sum = sum + 4*Funcion(x)\n",
        "    x = x + h\n",
        "    sum = sum + 2*Funcion(x)\n",
        "  x = x + h\n",
        "  sum = sum + 4*Funcion(x)\n",
        "  sum = sum + Funcion(b)\n",
        "  simpeq = ((b-a)*sum)/(3*n)\n",
        "  return simpeq\n",
        "\n",
        "resultado=Simpson(10,1,5) #llamar la función de simpson\n",
        "\n",
        "print('El valor de la Integral es: ', resultado)"
      ],
      "metadata": {
        "colab": {
          "base_uri": "https://localhost:8080/"
        },
        "id": "aGqPP8VveY0Q",
        "outputId": "92b1bf04-be5e-4d84-ed9f-c9ce6ef9c54e"
      },
      "execution_count": null,
      "outputs": [
        {
          "output_type": "stream",
          "name": "stdout",
          "text": [
            "El valor de la Integral es:  218.6666666666666\n"
          ]
        }
      ]
    },
    {
      "cell_type": "code",
      "source": [
        "#Método de Romberg\n",
        "\n",
        "import numpy as np\n",
        "\n",
        "# definir cualquier función\n",
        "def Funcion(x):\n",
        "    f = x**3+2*x**2-3*x+4\n",
        "    return f\n",
        "\n",
        "def tcomp(a, b, n):\n",
        "    h = (b - a) / n\n",
        "    x = a\n",
        "    In = Funcion(a)\n",
        "    for k in range(1, n):\n",
        "        x  = x + h\n",
        "        In += 2*Funcion(x)\n",
        "    return (In + Funcion(b))*h*0.5\n",
        "\n",
        "def romberg(a, b, p):\n",
        "    I = np.zeros((p, p))\n",
        "    for k in range(0, p):\n",
        "        I[k, 0] = tcomp(a, b, 2**k)\n",
        "\n",
        "        # Fórmula recursiva\n",
        "        for j in range(0, k):\n",
        "            I[k, j+1] = (4**(j+1) * I[k, j] - I[k-1, j]) / (4**(j+1) - 1)\n",
        "        print(I[k,0:k+1])\n",
        "    return I\n",
        "\n",
        "a = 1\n",
        "b = 5\n",
        "n = 10\n",
        "I = romberg(a, b, n) # llama rombert(a,b,n)"
      ],
      "metadata": {
        "colab": {
          "base_uri": "https://localhost:8080/"
        },
        "id": "yhslLaSDeczH",
        "outputId": "676bbf00-d4da-490e-ae91-001a982eed6a"
      },
      "execution_count": null,
      "outputs": [
        {
          "output_type": "stream",
          "name": "stdout",
          "text": [
            "[336.]\n",
            "[248.         218.66666667]\n",
            "[226.         218.66666667 218.66666667]\n",
            "[220.5        218.66666667 218.66666667 218.66666667]\n",
            "[219.125      218.66666667 218.66666667 218.66666667 218.66666667]\n",
            "[218.78125    218.66666667 218.66666667 218.66666667 218.66666667\n",
            " 218.66666667]\n",
            "[218.6953125  218.66666667 218.66666667 218.66666667 218.66666667\n",
            " 218.66666667 218.66666667]\n",
            "[218.67382812 218.66666667 218.66666667 218.66666667 218.66666667\n",
            " 218.66666667 218.66666667 218.66666667]\n",
            "[218.66845703 218.66666667 218.66666667 218.66666667 218.66666667\n",
            " 218.66666667 218.66666667 218.66666667 218.66666667]\n",
            "[218.66711426 218.66666667 218.66666667 218.66666667 218.66666667\n",
            " 218.66666667 218.66666667 218.66666667 218.66666667 218.66666667]\n"
          ]
        }
      ]
    },
    {
      "cell_type": "code",
      "source": [
        "# CUADRATURA GAUSSIANA\n",
        "\n",
        "import numpy as np\n",
        "\n",
        "def gauss_legendre_quadrature(f, a, b, n):\n",
        "    \"\"\"\n",
        "    Aproxima la integral ∫_a^b f(x) dx usando cuadratura de Gauss-Legendre.\n",
        "\n",
        "    Parámetros:\n",
        "        f : función a integrar\n",
        "        a, b : límites de integración\n",
        "        n : número de puntos de cuadratura (entre más grande, mayor precisión)\n",
        "\n",
        "    Retorna:\n",
        "        Aproximación numérica de la integral\n",
        "    \"\"\"\n",
        "    # Obtiene nodos y pesos de Gauss-Legendre en [-1,1]\n",
        "    x, w = np.polynomial.legendre.leggauss(n)\n",
        "\n",
        "    # Transformación de intervalo [-1,1] → [a,b]\n",
        "    t = 0.5 * (x * (b - a) + (b + a))\n",
        "    return 0.5 * (b - a) * np.sum(w * f(t))\n",
        "\n",
        "# Ejemplo de uso\n",
        "if __name__ == \"__main__\":\n",
        "    # Función a integrar\n",
        "    f = lambda x: x**3+2*x**2-3*x+4\n",
        "\n",
        "    # Intervalo\n",
        "    a, b = 1, 5\n",
        "\n",
        "    # Número de puntos de cuadratura\n",
        "    for n in [2, 3, 5, 10]:\n",
        "        integral = gauss_legendre_quadrature(f, a, b, n)\n",
        "        print(f\"n={n}, Integral ≈ {integral:.10f}\")\n"
      ],
      "metadata": {
        "colab": {
          "base_uri": "https://localhost:8080/"
        },
        "id": "Rr_0LiOVcray",
        "outputId": "cd758f94-a08a-4d15-d359-858424c0b396"
      },
      "execution_count": null,
      "outputs": [
        {
          "output_type": "stream",
          "name": "stdout",
          "text": [
            "n=2, Integral ≈ 218.6666666667\n",
            "n=3, Integral ≈ 218.6666666667\n",
            "n=5, Integral ≈ 218.6666666667\n",
            "n=10, Integral ≈ 218.6666666667\n"
          ]
        }
      ]
    },
    {
      "cell_type": "code",
      "source": [
        "#DERIVACIÓN NUMÉRICA CENTRAL\n",
        "\n",
        "def derivada_central(f, x, h=1e-5):\n",
        "    \"\"\"\n",
        "    Calcula la derivada de f en x usando diferencia central.\n",
        "\n",
        "    Parámetros:\n",
        "        f : función (callable)\n",
        "        x : punto donde derivar\n",
        "        h : paso (float), por defecto 1e-5\n",
        "\n",
        "    Retorna:\n",
        "        Aproximación de f'(x)\n",
        "    \"\"\"\n",
        "    return (f(x + h) - f(x - h)) / (2*h)\n",
        "\n",
        "# Ejemplo de uso\n",
        "if __name__ == \"__main__\":\n",
        "    import math\n",
        "\n",
        "    f = lambda x: x**3+2*x**2-3*x+4\n",
        "    x0 = 1\n",
        "    deriv_aprox = derivada_central(f, x0)\n",
        "    deriv_exac = 3*x0**2+4*x0-3\n",
        "\n",
        "    print(f\"Derivada numérica en x={x0:.4f} ≈ {deriv_aprox:.6f}\")\n",
        "    print(f\"Derivada exacta en x={x0:.4f} = {deriv_exac:.6f}\")\n",
        "    print(f\"Error absoluto = {abs(deriv_aprox-deriv_exac):.2e}\")\n"
      ],
      "metadata": {
        "id": "FasZVWhTgbE5",
        "outputId": "554cd429-3cfc-4e5c-d820-84299442b903",
        "colab": {
          "base_uri": "https://localhost:8080/"
        }
      },
      "execution_count": null,
      "outputs": [
        {
          "output_type": "stream",
          "name": "stdout",
          "text": [
            "Derivada numérica en x=1.0000 ≈ 4.000000\n",
            "Derivada exacta en x=1.0000 = 4.000000\n",
            "Error absoluto = 1.15e-10\n"
          ]
        }
      ]
    }
  ]
}